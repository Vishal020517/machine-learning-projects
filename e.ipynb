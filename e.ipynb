{
 "cells": [
  {
   "cell_type": "code",
   "execution_count": 13,
   "id": "ca727948-5a38-4325-8a9a-0faefcf41c76",
   "metadata": {},
   "outputs": [
    {
     "name": "stdout",
     "output_type": "stream",
     "text": [
      "Mean Absolute Error: 402659.5714285714\n",
      "R-squared: -38.166702312005455\n",
      "Model and encoder saved successfully.\n",
      "   Experience_Years  Age  Gender  Predicted_Salary\n",
      "0                 3   25    Male      2.325500e+05\n",
      "1                10   45  Female      3.583432e+06\n"
     ]
    }
   ],
   "source": [
    "import pandas as pd\n",
    "from sklearn.model_selection import train_test_split\n",
    "from sklearn.preprocessing import OneHotEncoder\n",
    "from sklearn.ensemble import RandomForestRegressor\n",
    "from sklearn.metrics import mean_absolute_error, r2_score\n",
    "import joblib\n",
    "\n",
    "# Load the dataset\n",
    "file_path = \"Employee_Salary_Dataset.csv\"  # Replace with the actual path\n",
    "data = pd.read_csv(file_path)\n",
    "\n",
    "# Drop unnecessary columns\n",
    "data = data.drop(columns=[\"ID\"])\n",
    "\n",
    "# One-hot encode the 'Gender' column\n",
    "encoder = OneHotEncoder(drop=\"first\", sparse_output=False)  # Updated parameter\n",
    "gender_encoded = encoder.fit_transform(data[[\"Gender\"]])\n",
    "gender_encoded_df = pd.DataFrame(gender_encoded, columns=encoder.get_feature_names_out([\"Gender\"]))\n",
    "\n",
    "# Combine the encoded gender data with the main dataset\n",
    "data_encoded = pd.concat([data.drop(columns=[\"Gender\"]), gender_encoded_df], axis=1)\n",
    "\n",
    "# Split the data into features and target variable\n",
    "X = data_encoded.drop(columns=[\"Salary\"])\n",
    "y = data_encoded[\"Salary\"]\n",
    "\n",
    "# Split the data into training and testing sets\n",
    "X_train, X_test, y_train, y_test = train_test_split(X, y, test_size=0.2, random_state=42)\n",
    "\n",
    "# Create and train a Random Forest Regressor model\n",
    "model = RandomForestRegressor(random_state=42)\n",
    "model.fit(X_train, y_train)\n",
    "\n",
    "# Predict on the test set\n",
    "y_pred = model.predict(X_test)\n",
    "\n",
    "# Evaluate the model\n",
    "mae = mean_absolute_error(y_test, y_pred)\n",
    "r2 = r2_score(y_test, y_pred)\n",
    "\n",
    "print(f\"Mean Absolute Error: {mae}\")\n",
    "print(f\"R-squared: {r2}\")\n",
    "\n",
    "# Save the model and encoder for deployment\n",
    "joblib.dump(model, \"employee_salary_model.pkl\")\n",
    "joblib.dump(encoder, \"gender_encoder.pkl\")\n",
    "\n",
    "print(\"Model and encoder saved successfully.\")\n",
    "# Predefined list of new employees\n",
    "new_employees = pd.DataFrame({\n",
    "    \"Experience_Years\": [3, 10],\n",
    "    \"Age\": [25, 45],\n",
    "    \"Gender\": [\"Male\", \"Female\"]\n",
    "})\n",
    "\n",
    "# Preprocess and predict\n",
    "gender_encoded = encoder.transform(new_employees[[\"Gender\"]])\n",
    "gender_encoded_df = pd.DataFrame(gender_encoded, columns=encoder.get_feature_names_out([\"Gender\"]))\n",
    "new_employees_encoded = pd.concat([new_employees.drop(columns=[\"Gender\"]), gender_encoded_df], axis=1)\n",
    "predicted_salaries = model.predict(new_employees_encoded)\n",
    "\n",
    "# Display results\n",
    "new_employees[\"Predicted_Salary\"] = predicted_salaries\n",
    "print(new_employees)\n",
    "\n",
    "\n"
   ]
  },
  {
   "cell_type": "code",
   "execution_count": null,
   "id": "05cf7599-9f4c-4dd9-bfec-1e22b68661d7",
   "metadata": {},
   "outputs": [],
   "source": []
  }
 ],
 "metadata": {
  "kernelspec": {
   "display_name": "Python [conda env:anaconda3]",
   "language": "python",
   "name": "conda-env-anaconda3-py"
  },
  "language_info": {
   "codemirror_mode": {
    "name": "ipython",
    "version": 3
   },
   "file_extension": ".py",
   "mimetype": "text/x-python",
   "name": "python",
   "nbconvert_exporter": "python",
   "pygments_lexer": "ipython3",
   "version": "3.12.7"
  }
 },
 "nbformat": 4,
 "nbformat_minor": 5
}
