{
 "cells": [
  {
   "cell_type": "code",
   "execution_count": null,
   "id": "05f6e3fe-e1eb-4d91-84d4-0ea9549771f6",
   "metadata": {},
   "outputs": [],
   "source": []
  },
  {
   "cell_type": "code",
   "execution_count": 21,
   "id": "9b35dacd-11b0-4aa9-af07-1a1ad7e8af19",
   "metadata": {},
   "outputs": [],
   "source": [
    "import pandas as pd\n",
    "import random\n",
    "file_path = \"section A name list 1 year Ai&Ds.xlsx\"\n",
    "sheet_data = pd.read_excel(file_path, sheet_name='Sheet1')\n",
    "students = sheet_data[[\"NAME\", \"EMAIL ID\"]]\n",
    "courses = [\n",
    "    {\"name\": \"Mathematics\", \"id\": \"MATH101\"},\n",
    "    {\"name\": \"AML\", \"id\": \"PHYS201\"},\n",
    "    {\"name\": \"CNS\", \"id\": \"CHEM301\"},\n",
    "    {\"name\": \"Linux\", \"id\": \"BIOL401\"},\n",
    "    {\"name\": \"Java\", \"id\": \"CS501\"},\n",
    "    {\"name\": \"PE\", \"id\": \"ENG601\"},\n",
    "    \n",
    "]\n",
    "def generate_grade(marks):\n",
    "    if marks >= 90:\n",
    "        return \"A\"\n",
    "    elif marks >= 80:\n",
    "        return \"B\"\n",
    "    elif marks >= 70:\n",
    "        return \"C\"\n",
    "    elif marks >= 60:\n",
    "        return \"D\"\n",
    "    else:\n",
    "        return \"F\"\n",
    "\n",
    "synthetic_data = []\n",
    "for _, student in students.iterrows():\n",
    "    student_row = {\n",
    "        \"Student Name\": student[\"NAME\"],\n",
    "        \"Email ID\": student[\"EMAIL ID\"]\n",
    "    }\n",
    "    for course in courses:\n",
    "        marks = random.randint(40, 100)  # Generate random marks\n",
    "        grade = generate_grade(marks)\n",
    "        student_row[f\"{course['name']} Marks\"] = marks\n",
    "        student_row[f\"{course['name']} Grade\"] = grade\n",
    "    synthetic_data.append(student_row)\n",
    "synthetic_df = pd.DataFrame(synthetic_data)\n",
    "synthetic_df.head(10)  # Display the first 10 rows for preview\n",
    "synthetic_df.to_csv(\"synthetic_dataset.csv\", index=False)\n",
    "\n"
   ]
  },
  {
   "cell_type": "code",
   "execution_count": null,
   "id": "d73fe6a0-1092-410a-a7b7-2ac31dbe948e",
   "metadata": {},
   "outputs": [],
   "source": []
  }
 ],
 "metadata": {
  "kernelspec": {
   "display_name": "Python [conda env:anaconda3]",
   "language": "python",
   "name": "conda-env-anaconda3-py"
  },
  "language_info": {
   "codemirror_mode": {
    "name": "ipython",
    "version": 3
   },
   "file_extension": ".py",
   "mimetype": "text/x-python",
   "name": "python",
   "nbconvert_exporter": "python",
   "pygments_lexer": "ipython3",
   "version": "3.12.7"
  }
 },
 "nbformat": 4,
 "nbformat_minor": 5
}
